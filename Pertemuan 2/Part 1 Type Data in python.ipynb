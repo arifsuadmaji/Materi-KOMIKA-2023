{
 "cells": [
  {
   "cell_type": "markdown",
   "id": "b7390468",
   "metadata": {},
   "source": [
    "# Part 1 Type Data"
   ]
  },
  {
   "cell_type": "markdown",
   "id": "b3bfa939",
   "metadata": {},
   "source": [
    "<div class=\"alert-success\">\n",
    "Nama : Arif Su'admaji\n",
    "</div>\n",
    "\n",
    "<div class=\"alert-danger\">\n",
    "Github : https://github.com/arifsuadmaji\n",
    "</div>\n",
    "\n",
    "<div class=\"alert-warning\">\n",
    "Pelatihan KOMIKA 2023\n",
    "</div>\n",
    "\n",
    "<div class=\"alert-info\">\n",
    "2023\n",
    "</div"
   ]
  },
  {
   "cell_type": "markdown",
   "id": "2f2ec3ef",
   "metadata": {},
   "source": [
    "### 1. Integer"
   ]
  },
  {
   "cell_type": "code",
   "execution_count": 1,
   "id": "7e93073f",
   "metadata": {},
   "outputs": [
    {
     "name": "stdout",
     "output_type": "stream",
     "text": [
      "30\n"
     ]
    },
    {
     "data": {
      "text/plain": [
       "int"
      ]
     },
     "execution_count": 1,
     "metadata": {},
     "output_type": "execute_result"
    }
   ],
   "source": [
    "# tipe data : bilangan bulat (Integer)\n",
    "a = 10\n",
    "b = 20\n",
    "c = a + b\n",
    "print(c)\n",
    "type(c)"
   ]
  },
  {
   "cell_type": "markdown",
   "id": "671f584f",
   "metadata": {},
   "source": [
    "### 2. Float"
   ]
  },
  {
   "cell_type": "code",
   "execution_count": 2,
   "id": "cfc4046c",
   "metadata": {},
   "outputs": [
    {
     "name": "stdout",
     "output_type": "stream",
     "text": [
      "3.3333333333333335\n"
     ]
    },
    {
     "data": {
      "text/plain": [
       "float"
      ]
     },
     "execution_count": 2,
     "metadata": {},
     "output_type": "execute_result"
    }
   ],
   "source": [
    "# tipe data : bilangan desimal (float)\n",
    "x = 10\n",
    "y = 3\n",
    "z = x / y\n",
    "print(z)\n",
    "type(z)"
   ]
  },
  {
   "cell_type": "markdown",
   "id": "911142dd",
   "metadata": {},
   "source": [
    "### 3. String"
   ]
  },
  {
   "cell_type": "code",
   "execution_count": 3,
   "id": "27b3dc30",
   "metadata": {},
   "outputs": [
    {
     "name": "stdout",
     "output_type": "stream",
     "text": [
      "arif\n"
     ]
    },
    {
     "data": {
      "text/plain": [
       "str"
      ]
     },
     "execution_count": 3,
     "metadata": {},
     "output_type": "execute_result"
    }
   ],
   "source": [
    "# tipe data: kumpulan karakter (string)\n",
    "c = \"arif\"\n",
    "print(c)\n",
    "type(c)"
   ]
  },
  {
   "cell_type": "markdown",
   "id": "03ee249d",
   "metadata": {},
   "source": [
    "### 4. Bool"
   ]
  },
  {
   "cell_type": "code",
   "execution_count": 4,
   "id": "03fe6c17",
   "metadata": {},
   "outputs": [
    {
     "name": "stdout",
     "output_type": "stream",
     "text": [
      "True\n"
     ]
    },
    {
     "data": {
      "text/plain": [
       "bool"
      ]
     },
     "execution_count": 4,
     "metadata": {},
     "output_type": "execute_result"
    }
   ],
   "source": [
    "# tipe data: biner true/false (boolean)\n",
    "x = 5\n",
    "y = 10\n",
    "print(x < y) # True\n",
    "# print(x > y) # True\n",
    "type(x < y)"
   ]
  },
  {
   "cell_type": "markdown",
   "id": "029da90c",
   "metadata": {},
   "source": [
    "### 5. Complex"
   ]
  },
  {
   "cell_type": "code",
   "execution_count": 5,
   "id": "87d66cd1",
   "metadata": {},
   "outputs": [
    {
     "name": "stdout",
     "output_type": "stream",
     "text": [
      "(5+6j)\n"
     ]
    },
    {
     "data": {
      "text/plain": [
       "complex"
      ]
     },
     "execution_count": 5,
     "metadata": {},
     "output_type": "execute_result"
    }
   ],
   "source": [
    "## tipe data khusus\n",
    "\n",
    "# bilangan kompleks\n",
    "e = complex(5,6)\n",
    "print(e)\n",
    "type(e)"
   ]
  }
 ],
 "metadata": {
  "kernelspec": {
   "display_name": "Python 3 (ipykernel)",
   "language": "python",
   "name": "python3"
  },
  "language_info": {
   "codemirror_mode": {
    "name": "ipython",
    "version": 3
   },
   "file_extension": ".py",
   "mimetype": "text/x-python",
   "name": "python",
   "nbconvert_exporter": "python",
   "pygments_lexer": "ipython3",
   "version": "3.9.16"
  },
  "nbTranslate": {
   "displayLangs": [
    "*"
   ],
   "hotkey": "alt-t",
   "langInMainMenu": true,
   "sourceLang": "en",
   "targetLang": "fr",
   "useGoogleTranslate": true
  }
 },
 "nbformat": 4,
 "nbformat_minor": 5
}
