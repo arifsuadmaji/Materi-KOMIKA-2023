{
 "cells": [
  {
   "cell_type": "markdown",
   "id": "87e8d32a",
   "metadata": {},
   "source": [
    "# Part 7 Modul dan Package (Library)"
   ]
  },
  {
   "cell_type": "markdown",
   "id": "0f5e9d3f",
   "metadata": {},
   "source": [
    "<div class=\"alert-success\">\n",
    "Nama : Arif Su'admaji\n",
    "</div>\n",
    "\n",
    "<div class=\"alert-danger\">\n",
    "Github : https://github.com/arifsuadmaji\n",
    "</div>\n",
    "\n",
    "<div class=\"alert-warning\">\n",
    "Pelatihan KOMIKA 2023\n",
    "</div>\n",
    "\n",
    "<div class=\"alert-info\">\n",
    "2023\n",
    "</div"
   ]
  },
  {
   "cell_type": "markdown",
   "id": "86714859",
   "metadata": {},
   "source": [
    "## Membuat Package\n",
    "\n",
    "__1. Buat folder dengan nama `my_package`:__<br>\n",
    "__2. Di dalam folder `my_package`, buat file dengan nama `__init__.py`. Isi file tersebut bisa dikosongkan saja.__<br>\n",
    "__3. Di dalam folder `my_package`, buat file dengan nama `module1.py` dan `module2.py`.__<br>\n"
   ]
  },
  {
   "cell_type": "code",
   "execution_count": 1,
   "id": "ddad7718",
   "metadata": {},
   "outputs": [],
   "source": [
    "import os"
   ]
  },
  {
   "cell_type": "code",
   "execution_count": 2,
   "id": "87e6022e",
   "metadata": {},
   "outputs": [],
   "source": [
    "os.makedirs('my_package/', exist_ok=True)"
   ]
  },
  {
   "cell_type": "code",
   "execution_count": 3,
   "id": "b1092697",
   "metadata": {},
   "outputs": [],
   "source": [
    "# bangun_ruang.py\n",
    "def volume_Kubus(panjang_sisi):\n",
    "    return panjang_sisi**3\n",
    "def volume_bola(r):\n",
    "    return (4/3)*(22/7)*(r**3)\n",
    "def volume_balok(p, l, t):\n",
    "    return p*l*t\n",
    "def volume_tabung(r, t):\n",
    "    return (22/7)*(r**2)*t\n",
    "def volume_kerucut(r, t):\n",
    "    return (1/3)*(22/7)*(r**2)*t"
   ]
  },
  {
   "cell_type": "code",
   "execution_count": 4,
   "id": "ef02a388",
   "metadata": {},
   "outputs": [],
   "source": [
    "# Biodata.py\n",
    "def Biodata(nama, jenis_kelamin, alamat):\n",
    "    print('Nama : ', nama, '\\njenis Kelamin : ', jenis_kelamin, '\\nNama : ', alamat)"
   ]
  },
  {
   "cell_type": "markdown",
   "id": "febf98f6",
   "metadata": {},
   "source": [
    "__4. Kembali ke folder induk dan buat file dengan nama `main.py.`__"
   ]
  },
  {
   "cell_type": "code",
   "execution_count": 5,
   "id": "957ee0ec",
   "metadata": {},
   "outputs": [],
   "source": [
    "from my_package.bangun_ruang import volume_balok, volume_bola, volume_kerucut, volume_Kubus, volume_tabung\n",
    "from my_package import Biodata"
   ]
  },
  {
   "cell_type": "code",
   "execution_count": 6,
   "id": "32389182",
   "metadata": {},
   "outputs": [
    {
     "data": {
      "text/plain": [
       "100"
      ]
     },
     "execution_count": 6,
     "metadata": {},
     "output_type": "execute_result"
    }
   ],
   "source": [
    "volume_balok(10, 2, 5)"
   ]
  },
  {
   "cell_type": "code",
   "execution_count": 7,
   "id": "46651b10",
   "metadata": {},
   "outputs": [
    {
     "name": "stdout",
     "output_type": "stream",
     "text": [
      "Nama :  Arif \n",
      "jenis Kelamin :  Laki-laki \n",
      "Nama :  Tanjung kurung, Way Kanan\n"
     ]
    }
   ],
   "source": [
    "Biodata(nama='Arif', jenis_kelamin=\"Laki-laki\", alamat=\"Tanjung kurung, Way Kanan\")"
   ]
  },
  {
   "cell_type": "markdown",
   "id": "4a9aeff6",
   "metadata": {},
   "source": [
    "## Project:\n",
    "##### Buatlah suatu package (library) python yang bermanfaat dengan ketentuan berikut:\n",
    "   - Jangan copy paste\n",
    "   - Package berisi minimal dari 2 module"
   ]
  }
 ],
 "metadata": {
  "kernelspec": {
   "display_name": "Python 3 (ipykernel)",
   "language": "python",
   "name": "python3"
  },
  "language_info": {
   "codemirror_mode": {
    "name": "ipython",
    "version": 3
   },
   "file_extension": ".py",
   "mimetype": "text/x-python",
   "name": "python",
   "nbconvert_exporter": "python",
   "pygments_lexer": "ipython3",
   "version": "3.9.16"
  },
  "nbTranslate": {
   "displayLangs": [
    "*"
   ],
   "hotkey": "alt-t",
   "langInMainMenu": true,
   "sourceLang": "en",
   "targetLang": "fr",
   "useGoogleTranslate": true
  }
 },
 "nbformat": 4,
 "nbformat_minor": 5
}
