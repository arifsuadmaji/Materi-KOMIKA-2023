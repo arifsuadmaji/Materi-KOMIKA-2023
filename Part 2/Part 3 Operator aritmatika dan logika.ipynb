{
 "cells": [
  {
   "cell_type": "markdown",
   "id": "87e8d32a",
   "metadata": {},
   "source": [
    "# Part 3 Operator aritmatika dan logika"
   ]
  },
  {
   "cell_type": "markdown",
   "id": "0f5e9d3f",
   "metadata": {},
   "source": [
    "<div class=\"alert-success\">\n",
    "Nama : Arif Su'admaji\n",
    "</div>\n",
    "\n",
    "<div class=\"alert-danger\">\n",
    "Github : https://github.com/arifsuadmaji\n",
    "</div>\n",
    "\n",
    "<div class=\"alert-warning\">\n",
    "Pelatihan KOMIKA 2023\n",
    "</div>\n",
    "\n",
    "<div class=\"alert-info\">\n",
    "2023\n",
    "</div"
   ]
  },
  {
   "cell_type": "markdown",
   "id": "dbbafac9",
   "metadata": {},
   "source": [
    "### 1. Operator aritmatika"
   ]
  },
  {
   "cell_type": "code",
   "execution_count": 1,
   "id": "ae0aeaa1",
   "metadata": {},
   "outputs": [
    {
     "name": "stdout",
     "output_type": "stream",
     "text": [
      "13\n",
      "7\n",
      "30\n",
      "3.3333333333333335\n",
      "1\n",
      "1000\n"
     ]
    }
   ],
   "source": [
    "x = 10\n",
    "y = 3\n",
    "print(x + y) \n",
    "print(x - y)\n",
    "print(x * y) \n",
    "print(x / y) \n",
    "print(x % y)\n",
    "print(x ** y) "
   ]
  },
  {
   "cell_type": "code",
   "execution_count": 2,
   "id": "c5e4a0a4",
   "metadata": {},
   "outputs": [
    {
     "name": "stdout",
     "output_type": "stream",
     "text": [
      "masukan nilai x : 10\n",
      "masukan nilai y : 5\n",
      "Hasil penjumlahan dari x dan y adalah 15\n",
      "Hasil kurang dari x dan y adalah 5\n",
      "Hasil kali dari x dan y adalah 50\n",
      "Hasil pembagian dari x dan y adalah 2.0\n",
      "Hasil x mod y adalah 0\n",
      "Hasil x pangkat y adalah 100000\n"
     ]
    }
   ],
   "source": [
    "x = int(input('masukan nilai x : '))\n",
    "y = int(input('masukan nilai y : '))\n",
    "print('Hasil penjumlahan dari x dan y adalah', x + y) \n",
    "print('Hasil kurang dari x dan y adalah', x - y)\n",
    "print('Hasil kali dari x dan y adalah', x * y) \n",
    "print('Hasil pembagian dari x dan y adalah', x / y) \n",
    "print('Hasil x mod y adalah', x % y)\n",
    "print('Hasil x pangkat y adalah', x ** y) "
   ]
  },
  {
   "cell_type": "code",
   "execution_count": 4,
   "id": "a390308b",
   "metadata": {},
   "outputs": [
    {
     "name": "stdout",
     "output_type": "stream",
     "text": [
      "masukan nilai x : 10\n",
      "masukan nilai y : 5\n",
      "Hasil penjumlahan dari x dan y adalah 15 \n",
      "Hasil kurang dari x dan y adalah 5 \n",
      "Hasil kali dari x dan y adalah 50 \n",
      "Hasil pembagian dari x dan y adalah 2.0 \n",
      "Hasil x mod y adalah 0 \n",
      "Hasil x pangkat y adalah 100000\n"
     ]
    }
   ],
   "source": [
    "x = int(input('masukan nilai x : '))\n",
    "y = int(input('masukan nilai y : '))\n",
    "print('Hasil penjumlahan dari x dan y adalah', x + y, \n",
    "      '\\nHasil kurang dari x dan y adalah', x - y, \n",
    "      '\\nHasil kali dari x dan y adalah', x * y, \n",
    "      '\\nHasil pembagian dari x dan y adalah', x / y, \n",
    "      '\\nHasil x mod y adalah', x % y, \n",
    "      '\\nHasil x pangkat y adalah', x ** y)"
   ]
  },
  {
   "cell_type": "markdown",
   "id": "621d0bdc",
   "metadata": {},
   "source": [
    "### 2. Operator Perbandingan"
   ]
  },
  {
   "cell_type": "code",
   "execution_count": 10,
   "id": "333ec4fa",
   "metadata": {},
   "outputs": [
    {
     "name": "stdout",
     "output_type": "stream",
     "text": [
      "False\n",
      "True\n",
      "True\n",
      "False\n",
      "True\n",
      "False\n"
     ]
    }
   ],
   "source": [
    "x = 5\n",
    "y = 10\n",
    "print(x == y) \n",
    "print(x != y)\n",
    "print(x < y)\n",
    "print(x > y) \n",
    "print(x <= y)\n",
    "print(x >= y) "
   ]
  },
  {
   "cell_type": "code",
   "execution_count": 5,
   "id": "c4afdda5",
   "metadata": {},
   "outputs": [
    {
     "name": "stdout",
     "output_type": "stream",
     "text": [
      "masukan nilai x : 10\n",
      "masukan nilai y : 5\n",
      "Apakah x sama dengan y ? jawabannya adalah  False\n",
      "Apakah x  tidak sama dengan y ? jawabannya adalah  True\n",
      "Apakah x lebih kecil dari y ? jawabannya adalah  False\n",
      "Apakah x lebih besar dari y ? jawabannya adalah  True\n",
      "Apakah x lebih kecil atau sama dengan y ? jawabannya adalah  False\n",
      "Apakah x lebih besar atau sama dengan y ? jawabannya adalah  True\n"
     ]
    }
   ],
   "source": [
    "x = int(input('masukan nilai x : '))\n",
    "y = int(input('masukan nilai y : '))\n",
    "print('Apakah x sama dengan y ? jawabannya adalah ', x == y) \n",
    "print('Apakah x  tidak sama dengan y ? jawabannya adalah ', x != y)\n",
    "print('Apakah x lebih kecil dari y ? jawabannya adalah ', x < y)\n",
    "print('Apakah x lebih besar dari y ? jawabannya adalah ', x > y) \n",
    "print('Apakah x lebih kecil atau sama dengan y ? jawabannya adalah ', x <= y)\n",
    "print('Apakah x lebih besar atau sama dengan y ? jawabannya adalah ', x >= y) "
   ]
  },
  {
   "cell_type": "markdown",
   "id": "38eeaac5",
   "metadata": {},
   "source": [
    "### 3. Operator Logika "
   ]
  },
  {
   "cell_type": "code",
   "execution_count": 12,
   "id": "7c5e019e",
   "metadata": {},
   "outputs": [
    {
     "name": "stdout",
     "output_type": "stream",
     "text": [
      "True\n",
      "False\n"
     ]
    }
   ],
   "source": [
    "x = 5\n",
    "y = 10\n",
    "z = 15\n",
    "print(x < y and y < z) # True\n",
    "print(x > y or y > z) # False"
   ]
  },
  {
   "cell_type": "code",
   "execution_count": 6,
   "id": "d959ba05",
   "metadata": {},
   "outputs": [
    {
     "name": "stdout",
     "output_type": "stream",
     "text": [
      "masukan nilai x : 5\n",
      "masukan nilai y : 10\n",
      "masukan nilai z : 15\n",
      "Apakah x lebih kecil dari y dan y lebih kecil dari z ? jawabannya adalah  True\n",
      "Apakah x lebih besar dari y atau y lebih besar dari z ? jawabannya adalah  False\n"
     ]
    }
   ],
   "source": [
    "x = int(input('masukan nilai x : '))\n",
    "y = int(input('masukan nilai y : '))\n",
    "z = int(input('masukan nilai z : '))\n",
    "print('Apakah x lebih kecil dari y dan y lebih kecil dari z ? jawabannya adalah ', x < y and y < z) # True\n",
    "print('Apakah x lebih besar dari y atau y lebih besar dari z ? jawabannya adalah ',x > y or y > z) # False"
   ]
  },
  {
   "cell_type": "markdown",
   "id": "63adec5d",
   "metadata": {},
   "source": [
    "### 4. More "
   ]
  },
  {
   "cell_type": "code",
   "execution_count": 10,
   "id": "970e155b",
   "metadata": {},
   "outputs": [
    {
     "name": "stdout",
     "output_type": "stream",
     "text": [
      "Hewan :  Kucing\n",
      "Nama : Komika\n",
      "Warna : Hitam\n"
     ]
    }
   ],
   "source": [
    "hewan = 'Kucing'\n",
    "nama = 'Komika'\n",
    "warna = 'Hitam'\n",
    "print('Hewan : ', hewan)\n",
    "print('Nama :', nama)\n",
    "print('Warna :', warna)"
   ]
  },
  {
   "cell_type": "code",
   "execution_count": 11,
   "id": "92a5c932",
   "metadata": {},
   "outputs": [
    {
     "data": {
      "text/plain": [
       "38.5"
      ]
     },
     "execution_count": 11,
     "metadata": {},
     "output_type": "execute_result"
    }
   ],
   "source": [
    "# Persegi panjang\n",
    "panjang = 5.5\n",
    "lebar = 7\n",
    "\n",
    "luas_persegi_panjang = panjang * lebar\n",
    "luas_persegi_panjang"
   ]
  },
  {
   "cell_type": "code",
   "execution_count": 12,
   "id": "ef4af334",
   "metadata": {},
   "outputs": [
    {
     "name": "stdout",
     "output_type": "stream",
     "text": [
      "Panjang : 100\n",
      "Lebar : 55\n",
      "Luas persegi panjang tersebut adalah  5500.0\n"
     ]
    }
   ],
   "source": [
    "# Persegi panjang\n",
    "panjang = float(input('Panjang : '))\n",
    "lebar = float(input('Lebar : '))\n",
    "\n",
    "luas_persegi_panjang = panjang * lebar\n",
    "print('Luas persegi panjang tersebut adalah ', luas_persegi_panjang)"
   ]
  },
  {
   "cell_type": "markdown",
   "id": "029b443c",
   "metadata": {},
   "source": [
    "## Exercise :\n",
    "\n",
    "1. Buat biodata pribadi yang beirisi:\n",
    "    - Nama\n",
    "    - Tanggal lahir\n",
    "    - Alamat\n",
    "    - Hobi\n",
    "    - Motivasi\n",
    "\n",
    "2. Buat rumus bangun ruang berikut:\n",
    "    - Kubus\n",
    "    - Balok\n",
    "    - Bola\n",
    "    - Tabung\n",
    "    - Kerucut  "
   ]
  },
  {
   "cell_type": "code",
   "execution_count": null,
   "id": "62f5e113",
   "metadata": {},
   "outputs": [],
   "source": []
  }
 ],
 "metadata": {
  "kernelspec": {
   "display_name": "Python 3 (ipykernel)",
   "language": "python",
   "name": "python3"
  },
  "language_info": {
   "codemirror_mode": {
    "name": "ipython",
    "version": 3
   },
   "file_extension": ".py",
   "mimetype": "text/x-python",
   "name": "python",
   "nbconvert_exporter": "python",
   "pygments_lexer": "ipython3",
   "version": "3.9.16"
  },
  "nbTranslate": {
   "displayLangs": [
    "*"
   ],
   "hotkey": "alt-t",
   "langInMainMenu": true,
   "sourceLang": "en",
   "targetLang": "fr",
   "useGoogleTranslate": true
  }
 },
 "nbformat": 4,
 "nbformat_minor": 5
}
