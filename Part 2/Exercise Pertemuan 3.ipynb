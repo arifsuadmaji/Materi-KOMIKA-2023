{
 "cells": [
  {
   "cell_type": "markdown",
   "id": "029b443c",
   "metadata": {},
   "source": [
    "## Exercise :"
   ]
  },
  {
   "cell_type": "markdown",
   "id": "755df70e",
   "metadata": {},
   "source": [
    "\n",
    "1. Buat biodata pribadi yang beirisi:\n",
    "    - Nama\n",
    "    - Tanggal lahir\n",
    "    - Alamat\n",
    "    - Hobi\n",
    "    - Motivasi"
   ]
  },
  {
   "cell_type": "markdown",
   "id": "8136e32c",
   "metadata": {},
   "source": [
    "#### Jawab"
   ]
  },
  {
   "cell_type": "code",
   "execution_count": 1,
   "id": "5829f2ba",
   "metadata": {},
   "outputs": [
    {
     "name": "stdout",
     "output_type": "stream",
     "text": [
      "Nama :cecep\n",
      "Tanggal Lahir :17 aug 2020\n",
      "Alamat :bulan\n",
      "Hobi :makan\n",
      "Motivasi :makakn\n"
     ]
    }
   ],
   "source": [
    "Nama = input('Nama :')\n",
    "Lahir = input('Tanggal Lahir :')\n",
    "Alamat = input('Alamat :')\n",
    "Hobi = input('Hobi :')\n",
    "Motivasi = input('Motivasi :')"
   ]
  },
  {
   "cell_type": "markdown",
   "id": "612f44e7",
   "metadata": {},
   "source": [
    "2. Buat rumus bangun ruang berikut:\n",
    "    - Kubus\n",
    "    - Balok\n",
    "    - Bola\n",
    "    - Tabung\n",
    "    - Kerucut  "
   ]
  },
  {
   "cell_type": "markdown",
   "id": "030d8dea",
   "metadata": {},
   "source": [
    "#### Jawab"
   ]
  },
  {
   "cell_type": "code",
   "execution_count": 3,
   "id": "f5b07ad5",
   "metadata": {},
   "outputs": [
    {
     "name": "stdout",
     "output_type": "stream",
     "text": [
      "Masukan panjang sisi :6\n",
      "Panjang sisi kubus : 6.0 cm\n",
      "Volume kubus tersebut dalah : 216.0 cm3\n"
     ]
    }
   ],
   "source": [
    "# Kubus\n",
    "S = float(input('Masukan panjang sisi :'))\n",
    "\n",
    "volume = S**3\n",
    "print('Panjang sisi kubus :',S,\"cm\")\n",
    "print('Volume kubus tersebut dalah :',volume,\"cm3\")"
   ]
  },
  {
   "cell_type": "code",
   "execution_count": 4,
   "id": "e405559f",
   "metadata": {},
   "outputs": [
    {
     "name": "stdout",
     "output_type": "stream",
     "text": [
      "Masukan panjang :3\n",
      "Masukan lebar :4\n",
      "Masukan tinggi :5\n",
      "Panjang : 3.0 cm\n",
      "Lebar : 4.0 cm\n",
      "Tinggi : 5.0 cm\n",
      "Volume balok tersebut dalah : 60.0 cm3\n"
     ]
    }
   ],
   "source": [
    "# Balok\n",
    "p = float(input('Masukan panjang :'))\n",
    "l = float(input('Masukan lebar :'))\n",
    "t = float(input('Masukan tinggi :'))\n",
    "\n",
    "volume = p*l*t\n",
    "print('Panjang :',p,\"cm\")\n",
    "print('Lebar :',l,\"cm\")\n",
    "print('Tinggi :',t,\"cm\")\n",
    "print('Volume balok tersebut dalah :',volume,\"cm3\")"
   ]
  },
  {
   "cell_type": "code",
   "execution_count": 5,
   "id": "f491b91f",
   "metadata": {},
   "outputs": [
    {
     "name": "stdout",
     "output_type": "stream",
     "text": [
      "Masukan jari-jari :5\n",
      "Panjang jari-jari : 5.0 cm\n",
      "Volume bola tersebut dalah : 523.8095238095237 cm3\n"
     ]
    }
   ],
   "source": [
    "# Bola\n",
    "\n",
    "# membuat variabel\n",
    "phi = 22/7\n",
    "r = float(input('Masukan jari-jari :'))\n",
    "\n",
    "# rumus \n",
    "volume = (4/3)*phi*(r**3)\n",
    "\n",
    "# menampilkan hasil\n",
    "print('Panjang jari-jari :',r,\"cm\")\n",
    "print('Volume bola tersebut dalah :',volume,\"cm3\")"
   ]
  },
  {
   "cell_type": "code",
   "execution_count": 8,
   "id": "f75a5605",
   "metadata": {},
   "outputs": [
    {
     "name": "stdout",
     "output_type": "stream",
     "text": [
      "Masukan jari-jari :8\n",
      "Masukan tinggi :15\n",
      "Panjang jari-jari : 8.0 cm\n",
      "Tinggi : 15.0 cm\n",
      "Volume Tabung tersebut dalah : 3017.142857142857 cm3\n"
     ]
    }
   ],
   "source": [
    "# Tabung\n",
    "phi = 22/7\n",
    "r = float(input('Masukan jari-jari :'))\n",
    "t = float(input('Masukan tinggi :'))\n",
    "\n",
    "volume = phi*(r**2)*t\n",
    "print('Panjang jari-jari :',r,\"cm\")\n",
    "print('Tinggi :',t,\"cm\")\n",
    "print('Volume Tabung tersebut dalah :',volume,\"cm3\")"
   ]
  },
  {
   "cell_type": "code",
   "execution_count": 11,
   "id": "ab220a2b",
   "metadata": {},
   "outputs": [
    {
     "name": "stdout",
     "output_type": "stream",
     "text": [
      "Masukan jari-jari :3\n",
      "Masukan tinggi :9\n",
      "Panjang jari-jari : 3.0 cm\n",
      "Tinggi : 9.0 cm\n",
      "Volume Kerucut tersebut dalah : 84.85714285714285 cm3\n"
     ]
    }
   ],
   "source": [
    "# Kerucut\n",
    "phi = 22/7\n",
    "r = float(input('Masukan jari-jari :'))\n",
    "t = float(input('Masukan tinggi :'))\n",
    "\n",
    "volume = (1/3)*phi*(r**2)*t\n",
    "print('Panjang jari-jari :',r,\"cm\")\n",
    "print('Tinggi :',t,\"cm\")\n",
    "print('Volume Kerucut tersebut dalah :',volume,\"cm3\")"
   ]
  }
 ],
 "metadata": {
  "kernelspec": {
   "display_name": "Python 3 (ipykernel)",
   "language": "python",
   "name": "python3"
  },
  "language_info": {
   "codemirror_mode": {
    "name": "ipython",
    "version": 3
   },
   "file_extension": ".py",
   "mimetype": "text/x-python",
   "name": "python",
   "nbconvert_exporter": "python",
   "pygments_lexer": "ipython3",
   "version": "3.9.16"
  }
 },
 "nbformat": 4,
 "nbformat_minor": 5
}
