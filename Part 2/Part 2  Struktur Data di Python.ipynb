{
 "cells": [
  {
   "cell_type": "markdown",
   "id": "87e8d32a",
   "metadata": {},
   "source": [
    "# Part 2 Struktur Data di Python"
   ]
  },
  {
   "cell_type": "markdown",
   "id": "0f5e9d3f",
   "metadata": {},
   "source": [
    "<div class=\"alert-success\">\n",
    "Nama : Arif Su'admaji\n",
    "</div>\n",
    "\n",
    "<div class=\"alert-danger\">\n",
    "Github : https://github.com/arifsuadmaji\n",
    "</div>\n",
    "\n",
    "<div class=\"alert-warning\">\n",
    "Pelatihan KOMIKA 2023\n",
    "</div>\n",
    "\n",
    "<div class=\"alert-info\">\n",
    "2023\n",
    "</div"
   ]
  },
  {
   "cell_type": "markdown",
   "id": "5551778c",
   "metadata": {},
   "source": [
    "## 1. Print"
   ]
  },
  {
   "cell_type": "code",
   "execution_count": 1,
   "id": "0068c6bc",
   "metadata": {},
   "outputs": [
    {
     "name": "stdout",
     "output_type": "stream",
     "text": [
      "Hallo word\n"
     ]
    }
   ],
   "source": [
    "print(\"Hallo word\")"
   ]
  },
  {
   "cell_type": "code",
   "execution_count": 2,
   "id": "7b3ecc44",
   "metadata": {},
   "outputs": [
    {
     "name": "stdout",
     "output_type": "stream",
     "text": [
      "Hallo, Nama saya Arif\n"
     ]
    }
   ],
   "source": [
    "print('Hallo, Nama saya Arif')"
   ]
  },
  {
   "cell_type": "markdown",
   "id": "80fdf8ce",
   "metadata": {},
   "source": [
    "## 2. Variable"
   ]
  },
  {
   "cell_type": "code",
   "execution_count": 3,
   "id": "ccb13140",
   "metadata": {},
   "outputs": [],
   "source": [
    "a = 1"
   ]
  },
  {
   "cell_type": "code",
   "execution_count": 4,
   "id": "ee08d51e",
   "metadata": {},
   "outputs": [
    {
     "data": {
      "text/plain": [
       "1"
      ]
     },
     "execution_count": 4,
     "metadata": {},
     "output_type": "execute_result"
    }
   ],
   "source": [
    "a"
   ]
  },
  {
   "cell_type": "code",
   "execution_count": 5,
   "id": "8e061320",
   "metadata": {},
   "outputs": [],
   "source": [
    "a, b = 2, 3"
   ]
  },
  {
   "cell_type": "code",
   "execution_count": 6,
   "id": "ac2f39ef",
   "metadata": {},
   "outputs": [
    {
     "data": {
      "text/plain": [
       "2"
      ]
     },
     "execution_count": 6,
     "metadata": {},
     "output_type": "execute_result"
    }
   ],
   "source": [
    "a"
   ]
  },
  {
   "cell_type": "code",
   "execution_count": 7,
   "id": "7ebeb399",
   "metadata": {},
   "outputs": [
    {
     "data": {
      "text/plain": [
       "3"
      ]
     },
     "execution_count": 7,
     "metadata": {},
     "output_type": "execute_result"
    }
   ],
   "source": [
    "b"
   ]
  },
  {
   "cell_type": "code",
   "execution_count": 8,
   "id": "e63d2626",
   "metadata": {},
   "outputs": [
    {
     "data": {
      "text/plain": [
       "(2, 3)"
      ]
     },
     "execution_count": 8,
     "metadata": {},
     "output_type": "execute_result"
    }
   ],
   "source": [
    "a, b"
   ]
  },
  {
   "cell_type": "markdown",
   "id": "a47af919",
   "metadata": {},
   "source": [
    "## 3. List"
   ]
  },
  {
   "cell_type": "code",
   "execution_count": 9,
   "id": "81883ca9",
   "metadata": {},
   "outputs": [],
   "source": [
    "a = [1, 2, 3,'empat', 'lima', 6]"
   ]
  },
  {
   "cell_type": "code",
   "execution_count": 10,
   "id": "1e37a1cf",
   "metadata": {},
   "outputs": [
    {
     "data": {
      "text/plain": [
       "[1, 2, 3, 'empat', 'lima', 6]"
      ]
     },
     "execution_count": 10,
     "metadata": {},
     "output_type": "execute_result"
    }
   ],
   "source": [
    "a"
   ]
  },
  {
   "cell_type": "code",
   "execution_count": 11,
   "id": "1ec497f1",
   "metadata": {},
   "outputs": [
    {
     "data": {
      "text/plain": [
       "1"
      ]
     },
     "execution_count": 11,
     "metadata": {},
     "output_type": "execute_result"
    }
   ],
   "source": [
    "a[0]"
   ]
  },
  {
   "cell_type": "markdown",
   "id": "1b027f05",
   "metadata": {},
   "source": [
    "cara baca =<br>\n",
    "a indeks ke 0 = 1<br>\n",
    "a indeks ke 1 = 2<br>\n",
    "a indeks ke 2 = 3<br>\n",
    "a indeks ke -1 = 6<br>"
   ]
  },
  {
   "cell_type": "code",
   "execution_count": 12,
   "id": "05866a73",
   "metadata": {},
   "outputs": [
    {
     "data": {
      "text/plain": [
       "6"
      ]
     },
     "execution_count": 12,
     "metadata": {},
     "output_type": "execute_result"
    }
   ],
   "source": [
    "a[-1]"
   ]
  },
  {
   "cell_type": "code",
   "execution_count": 13,
   "id": "bae5700a",
   "metadata": {},
   "outputs": [
    {
     "data": {
      "text/plain": [
       "'lima'"
      ]
     },
     "execution_count": 13,
     "metadata": {},
     "output_type": "execute_result"
    }
   ],
   "source": [
    "a[-2]"
   ]
  },
  {
   "cell_type": "markdown",
   "id": "3da7ae3a",
   "metadata": {},
   "source": [
    "#### Menambahkan anggota list"
   ]
  },
  {
   "cell_type": "code",
   "execution_count": 14,
   "id": "c28712ee",
   "metadata": {},
   "outputs": [],
   "source": [
    "a.append(7)"
   ]
  },
  {
   "cell_type": "code",
   "execution_count": 15,
   "id": "c3bcc0b3",
   "metadata": {},
   "outputs": [
    {
     "data": {
      "text/plain": [
       "[1, 2, 3, 'empat', 'lima', 6, 7]"
      ]
     },
     "execution_count": 15,
     "metadata": {},
     "output_type": "execute_result"
    }
   ],
   "source": [
    "a"
   ]
  },
  {
   "cell_type": "markdown",
   "id": "d666a5ac",
   "metadata": {},
   "source": [
    "#### Slicing"
   ]
  },
  {
   "cell_type": "markdown",
   "id": "f70cd5d0",
   "metadata": {},
   "source": [
    "`inclusive`:`exclusive`:`step`"
   ]
  },
  {
   "cell_type": "code",
   "execution_count": 16,
   "id": "23b68e34",
   "metadata": {},
   "outputs": [],
   "source": [
    "a = [0, 1, 2, 3, 4, 5, 6]"
   ]
  },
  {
   "cell_type": "code",
   "execution_count": 17,
   "id": "d3816a69",
   "metadata": {},
   "outputs": [
    {
     "data": {
      "text/plain": [
       "[0, 1]"
      ]
     },
     "execution_count": 17,
     "metadata": {},
     "output_type": "execute_result"
    }
   ],
   "source": [
    "a[0:2]"
   ]
  },
  {
   "cell_type": "markdown",
   "id": "87b33f43",
   "metadata": {},
   "source": [
    "a indeks ke 0  sampai indeks ke 2"
   ]
  },
  {
   "cell_type": "code",
   "execution_count": 18,
   "id": "dd6cbb5f",
   "metadata": {},
   "outputs": [
    {
     "data": {
      "text/plain": [
       "[2, 3, 4, 5]"
      ]
     },
     "execution_count": 18,
     "metadata": {},
     "output_type": "execute_result"
    }
   ],
   "source": [
    "a[2:-1]"
   ]
  },
  {
   "cell_type": "code",
   "execution_count": 19,
   "id": "4e05fa6e",
   "metadata": {},
   "outputs": [
    {
     "data": {
      "text/plain": [
       "[3, 4, 5, 6]"
      ]
     },
     "execution_count": 19,
     "metadata": {},
     "output_type": "execute_result"
    }
   ],
   "source": [
    "a[3:]"
   ]
  },
  {
   "cell_type": "code",
   "execution_count": 20,
   "id": "27d5165b",
   "metadata": {},
   "outputs": [
    {
     "data": {
      "text/plain": [
       "[0, 2, 4, 6]"
      ]
     },
     "execution_count": 20,
     "metadata": {},
     "output_type": "execute_result"
    }
   ],
   "source": [
    "a[::2]"
   ]
  },
  {
   "cell_type": "code",
   "execution_count": 21,
   "id": "b86a01b3",
   "metadata": {},
   "outputs": [
    {
     "data": {
      "text/plain": [
       "[1, 3]"
      ]
     },
     "execution_count": 21,
     "metadata": {},
     "output_type": "execute_result"
    }
   ],
   "source": [
    "a[1:5:2]"
   ]
  },
  {
   "cell_type": "code",
   "execution_count": 22,
   "id": "8821233f",
   "metadata": {},
   "outputs": [
    {
     "data": {
      "text/plain": [
       "[6, 5, 4, 3, 2, 1, 0]"
      ]
     },
     "execution_count": 22,
     "metadata": {},
     "output_type": "execute_result"
    }
   ],
   "source": [
    "a[::-1]"
   ]
  },
  {
   "cell_type": "markdown",
   "id": "ff6f7f30",
   "metadata": {},
   "source": [
    "#### Join & Split"
   ]
  },
  {
   "cell_type": "code",
   "execution_count": 23,
   "id": "1e5fc9a2",
   "metadata": {},
   "outputs": [],
   "source": [
    "a = ['aku', 'kamu', 'kita']"
   ]
  },
  {
   "cell_type": "code",
   "execution_count": 24,
   "id": "8fc5277e",
   "metadata": {},
   "outputs": [
    {
     "data": {
      "text/plain": [
       "'aku kamu kita'"
      ]
     },
     "execution_count": 24,
     "metadata": {},
     "output_type": "execute_result"
    }
   ],
   "source": [
    "\" \".join(a)"
   ]
  },
  {
   "cell_type": "code",
   "execution_count": 25,
   "id": "d1308453",
   "metadata": {},
   "outputs": [
    {
     "data": {
      "text/plain": [
       "'aku, kamu, kita'"
      ]
     },
     "execution_count": 25,
     "metadata": {},
     "output_type": "execute_result"
    }
   ],
   "source": [
    "\", \".join(a)"
   ]
  },
  {
   "cell_type": "code",
   "execution_count": 26,
   "id": "0edafcc3",
   "metadata": {},
   "outputs": [],
   "source": [
    "a = 'Materi kali ini membahas tentang Perkenalan Python'"
   ]
  },
  {
   "cell_type": "code",
   "execution_count": 27,
   "id": "56ac7896",
   "metadata": {},
   "outputs": [
    {
     "data": {
      "text/plain": [
       "['Materi', 'kali', 'ini', 'membahas', 'tentang', 'Perkenalan', 'Python']"
      ]
     },
     "execution_count": 27,
     "metadata": {},
     "output_type": "execute_result"
    }
   ],
   "source": [
    "a.split()"
   ]
  },
  {
   "cell_type": "code",
   "execution_count": 28,
   "id": "377abca6",
   "metadata": {},
   "outputs": [],
   "source": [
    "a = 'hari ini, saya pergi kepasar'"
   ]
  },
  {
   "cell_type": "code",
   "execution_count": 29,
   "id": "64463f58",
   "metadata": {},
   "outputs": [
    {
     "data": {
      "text/plain": [
       "['hari ini', 'saya pergi kepasar']"
      ]
     },
     "execution_count": 29,
     "metadata": {},
     "output_type": "execute_result"
    }
   ],
   "source": [
    "a.split(\", \")"
   ]
  },
  {
   "cell_type": "markdown",
   "id": "9a4a89e7",
   "metadata": {},
   "source": [
    "## 4. Tupple"
   ]
  },
  {
   "cell_type": "code",
   "execution_count": 18,
   "id": "c9491d98",
   "metadata": {},
   "outputs": [
    {
     "name": "stdout",
     "output_type": "stream",
     "text": [
      "('apel', 'pisang', 'rambutan')\n"
     ]
    }
   ],
   "source": [
    "buah = (\"apel\", \"pisang\", \"rambutan\")\n",
    "print(buah)"
   ]
  },
  {
   "cell_type": "code",
   "execution_count": 20,
   "id": "dd56f308",
   "metadata": {},
   "outputs": [
    {
     "data": {
      "text/plain": [
       "'apel'"
      ]
     },
     "execution_count": 20,
     "metadata": {},
     "output_type": "execute_result"
    }
   ],
   "source": [
    "buah[0]"
   ]
  },
  {
   "cell_type": "code",
   "execution_count": 21,
   "id": "758da9ea",
   "metadata": {},
   "outputs": [
    {
     "data": {
      "text/plain": [
       "'rambutan'"
      ]
     },
     "execution_count": 21,
     "metadata": {},
     "output_type": "execute_result"
    }
   ],
   "source": [
    "buah[-1]"
   ]
  },
  {
   "cell_type": "code",
   "execution_count": 22,
   "id": "9e79b6d1",
   "metadata": {},
   "outputs": [
    {
     "data": {
      "text/plain": [
       "'pisang'"
      ]
     },
     "execution_count": 22,
     "metadata": {},
     "output_type": "execute_result"
    }
   ],
   "source": [
    "buah[-2]"
   ]
  },
  {
   "cell_type": "code",
   "execution_count": 23,
   "id": "66afeec7",
   "metadata": {},
   "outputs": [
    {
     "data": {
      "text/plain": [
       "('apel', 'pisang')"
      ]
     },
     "execution_count": 23,
     "metadata": {},
     "output_type": "execute_result"
    }
   ],
   "source": [
    "buah[0:2]"
   ]
  },
  {
   "cell_type": "markdown",
   "id": "20e75eb5",
   "metadata": {},
   "source": [
    "## 5. Dictionary"
   ]
  },
  {
   "cell_type": "markdown",
   "id": "ce28be5a",
   "metadata": {},
   "source": [
    "`key`:`value`"
   ]
  },
  {
   "cell_type": "code",
   "execution_count": 30,
   "id": "74d80244",
   "metadata": {},
   "outputs": [],
   "source": [
    "a = {\n",
    "    'cat': 'kucing',\n",
    "    'dog': 'anjing',\n",
    "    'fish': 'ikan'\n",
    "}"
   ]
  },
  {
   "cell_type": "code",
   "execution_count": 31,
   "id": "4be6e8e3",
   "metadata": {},
   "outputs": [
    {
     "data": {
      "text/plain": [
       "'kucing'"
      ]
     },
     "execution_count": 31,
     "metadata": {},
     "output_type": "execute_result"
    }
   ],
   "source": [
    "a['cat']"
   ]
  },
  {
   "cell_type": "code",
   "execution_count": 32,
   "id": "3877c719",
   "metadata": {},
   "outputs": [
    {
     "data": {
      "text/plain": [
       "'anjing'"
      ]
     },
     "execution_count": 32,
     "metadata": {},
     "output_type": "execute_result"
    }
   ],
   "source": [
    "a['dog']"
   ]
  },
  {
   "cell_type": "code",
   "execution_count": 33,
   "id": "d42ccc0e",
   "metadata": {},
   "outputs": [
    {
     "data": {
      "text/plain": [
       "'ikan'"
      ]
     },
     "execution_count": 33,
     "metadata": {},
     "output_type": "execute_result"
    }
   ],
   "source": [
    "a['fish']"
   ]
  },
  {
   "cell_type": "code",
   "execution_count": 34,
   "id": "ae4f4f9f",
   "metadata": {},
   "outputs": [],
   "source": [
    "a['bird']= 'burung'"
   ]
  },
  {
   "cell_type": "code",
   "execution_count": 35,
   "id": "0a3b23ce",
   "metadata": {},
   "outputs": [
    {
     "data": {
      "text/plain": [
       "{'cat': 'kucing', 'dog': 'anjing', 'fish': 'ikan', 'bird': 'burung'}"
      ]
     },
     "execution_count": 35,
     "metadata": {},
     "output_type": "execute_result"
    }
   ],
   "source": [
    "a"
   ]
  },
  {
   "cell_type": "code",
   "execution_count": 36,
   "id": "e4c8f93d",
   "metadata": {},
   "outputs": [],
   "source": [
    "a['elephant']= 'gajah'"
   ]
  },
  {
   "cell_type": "code",
   "execution_count": 37,
   "id": "27dab029",
   "metadata": {},
   "outputs": [
    {
     "data": {
      "text/plain": [
       "{'cat': 'kucing',\n",
       " 'dog': 'anjing',\n",
       " 'fish': 'ikan',\n",
       " 'bird': 'burung',\n",
       " 'elephant': 'gajah'}"
      ]
     },
     "execution_count": 37,
     "metadata": {},
     "output_type": "execute_result"
    }
   ],
   "source": [
    "a"
   ]
  },
  {
   "cell_type": "code",
   "execution_count": 38,
   "id": "e06817ce",
   "metadata": {},
   "outputs": [
    {
     "data": {
      "text/plain": [
       "dict_keys(['cat', 'dog', 'fish', 'bird', 'elephant'])"
      ]
     },
     "execution_count": 38,
     "metadata": {},
     "output_type": "execute_result"
    }
   ],
   "source": [
    "a.keys()"
   ]
  },
  {
   "cell_type": "code",
   "execution_count": 39,
   "id": "8214b48b",
   "metadata": {},
   "outputs": [
    {
     "data": {
      "text/plain": [
       "dict_values(['kucing', 'anjing', 'ikan', 'burung', 'gajah'])"
      ]
     },
     "execution_count": 39,
     "metadata": {},
     "output_type": "execute_result"
    }
   ],
   "source": [
    "a.values()"
   ]
  },
  {
   "cell_type": "code",
   "execution_count": 40,
   "id": "ab38152a",
   "metadata": {},
   "outputs": [],
   "source": [
    "nilai = {'Andi': 40, 'Budi':55, 'Caca':75, 'Deddy':100}"
   ]
  },
  {
   "cell_type": "code",
   "execution_count": 41,
   "id": "28cac25d",
   "metadata": {},
   "outputs": [
    {
     "data": {
      "text/plain": [
       "40"
      ]
     },
     "execution_count": 41,
     "metadata": {},
     "output_type": "execute_result"
    }
   ],
   "source": [
    "nilai['Andi']"
   ]
  },
  {
   "cell_type": "code",
   "execution_count": 42,
   "id": "be8d652f",
   "metadata": {},
   "outputs": [
    {
     "data": {
      "text/plain": [
       "{'Andi': 40, 'Budi': 55, 'Caca': 75, 'Deddy': 100}"
      ]
     },
     "execution_count": 42,
     "metadata": {},
     "output_type": "execute_result"
    }
   ],
   "source": [
    "nilai"
   ]
  },
  {
   "cell_type": "code",
   "execution_count": 43,
   "id": "d7724834",
   "metadata": {},
   "outputs": [],
   "source": [
    "nilai['Deddy'] = 90"
   ]
  },
  {
   "cell_type": "code",
   "execution_count": 44,
   "id": "f14522b1",
   "metadata": {},
   "outputs": [
    {
     "data": {
      "text/plain": [
       "{'Andi': 40, 'Budi': 55, 'Caca': 75, 'Deddy': 90}"
      ]
     },
     "execution_count": 44,
     "metadata": {},
     "output_type": "execute_result"
    }
   ],
   "source": [
    "nilai"
   ]
  },
  {
   "cell_type": "code",
   "execution_count": null,
   "id": "b5cd8ee5",
   "metadata": {},
   "outputs": [],
   "source": []
  }
 ],
 "metadata": {
  "kernelspec": {
   "display_name": "Python 3 (ipykernel)",
   "language": "python",
   "name": "python3"
  },
  "language_info": {
   "codemirror_mode": {
    "name": "ipython",
    "version": 3
   },
   "file_extension": ".py",
   "mimetype": "text/x-python",
   "name": "python",
   "nbconvert_exporter": "python",
   "pygments_lexer": "ipython3",
   "version": "3.9.16"
  },
  "nbTranslate": {
   "displayLangs": [
    "*"
   ],
   "hotkey": "alt-t",
   "langInMainMenu": true,
   "sourceLang": "en",
   "targetLang": "fr",
   "useGoogleTranslate": true
  }
 },
 "nbformat": 4,
 "nbformat_minor": 5
}
