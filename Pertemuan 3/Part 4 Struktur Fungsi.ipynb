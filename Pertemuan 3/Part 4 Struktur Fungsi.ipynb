{
 "cells": [
  {
   "cell_type": "markdown",
   "id": "87e8d32a",
   "metadata": {},
   "source": [
    "# Part 4 Struktur Fungsi"
   ]
  },
  {
   "cell_type": "markdown",
   "id": "0f5e9d3f",
   "metadata": {},
   "source": [
    "<div class=\"alert-success\">\n",
    "Nama : Arif Su'admaji\n",
    "</div>\n",
    "\n",
    "<div class=\"alert-danger\">\n",
    "Github : https://github.com/arifsuadmaji\n",
    "</div>\n",
    "\n",
    "<div class=\"alert-warning\">\n",
    "Pelatihan KOMIKA 2023\n",
    "</div>\n",
    "\n",
    "<div class=\"alert-info\">\n",
    "2023\n",
    "</div"
   ]
  },
  {
   "cell_type": "markdown",
   "id": "dbbafac9",
   "metadata": {},
   "source": [
    "# 1. Fungsi"
   ]
  },
  {
   "cell_type": "markdown",
   "id": "0277f1ff",
   "metadata": {},
   "source": [
    "#### Fungsi tanpa parameter"
   ]
  },
  {
   "cell_type": "code",
   "execution_count": 1,
   "id": "1b4a9a46",
   "metadata": {},
   "outputs": [
    {
     "name": "stdout",
     "output_type": "stream",
     "text": [
      "Hello, World!\n"
     ]
    }
   ],
   "source": [
    "def hello():\n",
    "    print(\"Hello, World!\")\n",
    "hello()"
   ]
  },
  {
   "cell_type": "markdown",
   "id": "6c1c5daf",
   "metadata": {},
   "source": [
    "#### Fungsi dengan parameter"
   ]
  },
  {
   "cell_type": "code",
   "execution_count": 6,
   "id": "70a17f48",
   "metadata": {},
   "outputs": [
    {
     "name": "stdout",
     "output_type": "stream",
     "text": [
      "Halo, Udin!\n"
     ]
    }
   ],
   "source": [
    "def Biodata(nama):\n",
    "    print(\"Halo, \" + nama + \"!\")\n",
    "\n",
    "Biodata(\"Udin\")"
   ]
  },
  {
   "cell_type": "markdown",
   "id": "f9a6570b",
   "metadata": {},
   "source": [
    "#### Fungsi dengan return"
   ]
  },
  {
   "cell_type": "code",
   "execution_count": 7,
   "id": "78fd2f97",
   "metadata": {},
   "outputs": [],
   "source": [
    "def jumlah(a, b):\n",
    "    return a + b"
   ]
  },
  {
   "cell_type": "code",
   "execution_count": 8,
   "id": "ded0f342",
   "metadata": {},
   "outputs": [
    {
     "data": {
      "text/plain": [
       "7"
      ]
     },
     "execution_count": 8,
     "metadata": {},
     "output_type": "execute_result"
    }
   ],
   "source": [
    "jumlah(3, 4)"
   ]
  },
  {
   "cell_type": "code",
   "execution_count": 9,
   "id": "e7cfdf08",
   "metadata": {},
   "outputs": [],
   "source": [
    "def perkalian(a, b):\n",
    "    return a*b"
   ]
  },
  {
   "cell_type": "code",
   "execution_count": 10,
   "id": "0b308b24",
   "metadata": {},
   "outputs": [
    {
     "data": {
      "text/plain": [
       "144"
      ]
     },
     "execution_count": 10,
     "metadata": {},
     "output_type": "execute_result"
    }
   ],
   "source": [
    "perkalian(12, 12)"
   ]
  },
  {
   "cell_type": "markdown",
   "id": "7e89389b",
   "metadata": {},
   "source": [
    "# 1.1 Conditionals"
   ]
  },
  {
   "cell_type": "markdown",
   "id": "37c915ad",
   "metadata": {},
   "source": [
    "#### if - elsif - else"
   ]
  },
  {
   "cell_type": "code",
   "execution_count": 49,
   "id": "d0f57f36",
   "metadata": {},
   "outputs": [],
   "source": [
    "score = 50"
   ]
  },
  {
   "cell_type": "code",
   "execution_count": 50,
   "id": "62274ee8",
   "metadata": {},
   "outputs": [
    {
     "name": "stdout",
     "output_type": "stream",
     "text": [
      "indeks: C\n"
     ]
    }
   ],
   "source": [
    "if 0 <= score < 60 :\n",
    "    print(\"indeks: C\")\n",
    "elif 60 <= score < 80 :\n",
    "    print(\"indeks: B\")\n",
    "elif 80 <= score < 100 :\n",
    "    print(\"indeks: A\")   \n",
    "elif score == 100 :\n",
    "    print(\"indeks: S\")\n",
    "else:\n",
    "    print(\"Score Terlalu tinggi\")"
   ]
  },
  {
   "cell_type": "code",
   "execution_count": 51,
   "id": "e89bf46f",
   "metadata": {},
   "outputs": [
    {
     "name": "stdout",
     "output_type": "stream",
     "text": [
      "masukan nilai :80\n",
      "indeks: A\n"
     ]
    }
   ],
   "source": [
    "nilai = float(input(\"masukan nilai :\"))\n",
    "\n",
    "if (nilai>=76) :\n",
    "    print(\"indeks: A\")\n",
    "elif (71 <= nilai < 76) :\n",
    "    print(\"indeks: B+\")\n",
    "elif (65 <= nilai < 71) :\n",
    "    print(\"indeks: B\")   \n",
    "elif (61 <= nilai < 65) :\n",
    "    print(\"indeks: C+\")\n",
    "elif (55 < nilai < 61) :\n",
    "    print(\"indeks: C\")\n",
    "elif (40 <= nilai < 55) :\n",
    "    print(\"indeks: D\")\n",
    "elif (nilai < 40) :\n",
    "    print(\"indeks: E\")"
   ]
  },
  {
   "cell_type": "code",
   "execution_count": 52,
   "id": "3fbbb3bd",
   "metadata": {},
   "outputs": [],
   "source": [
    "def konversi_ke_indeks(score):\n",
    "    if 0 <= score < 60 :\n",
    "        return \"indeks: C\"\n",
    "    elif 60 <= score < 80 :\n",
    "        return \"indeks: B\"\n",
    "    elif 80 <= score < 100 :\n",
    "        return \"indeks: A\"  \n",
    "    elif score == 100 :\n",
    "        return \"indeks: S\"\n",
    "    else:\n",
    "        return \"Nilai tidak ada\""
   ]
  },
  {
   "cell_type": "code",
   "execution_count": 53,
   "id": "bf76c076",
   "metadata": {},
   "outputs": [
    {
     "data": {
      "text/plain": [
       "'Nilai tidak ada'"
      ]
     },
     "execution_count": 53,
     "metadata": {},
     "output_type": "execute_result"
    }
   ],
   "source": [
    "konversi_ke_indeks(120)"
   ]
  },
  {
   "cell_type": "code",
   "execution_count": 54,
   "id": "dd3c8302",
   "metadata": {},
   "outputs": [
    {
     "data": {
      "text/plain": [
       "'Nilai tidak ada'"
      ]
     },
     "execution_count": 54,
     "metadata": {},
     "output_type": "execute_result"
    }
   ],
   "source": [
    "konversi_ke_indeks(-10)"
   ]
  },
  {
   "cell_type": "markdown",
   "id": "3b1d522b",
   "metadata": {},
   "source": [
    "# 1.3 Iterasi(Menelusuri)\n",
    "#### For Loop"
   ]
  },
  {
   "cell_type": "code",
   "execution_count": 55,
   "id": "2f35fd59",
   "metadata": {},
   "outputs": [],
   "source": [
    "numbers = [1, 2, 3, 4, 5, 6]"
   ]
  },
  {
   "cell_type": "code",
   "execution_count": 56,
   "id": "3e89dc1c",
   "metadata": {},
   "outputs": [
    {
     "name": "stdout",
     "output_type": "stream",
     "text": [
      "1\n",
      "2\n",
      "3\n",
      "4\n",
      "5\n",
      "6\n"
     ]
    }
   ],
   "source": [
    "for n in numbers :\n",
    "    print(n)"
   ]
  },
  {
   "cell_type": "code",
   "execution_count": 57,
   "id": "9d191dcd",
   "metadata": {},
   "outputs": [
    {
     "name": "stdout",
     "output_type": "stream",
     "text": [
      "indeks: A\n",
      "indeks: C\n",
      "indeks: B\n",
      "Nilai tidak ada\n"
     ]
    }
   ],
   "source": [
    "for score in (80, 30, 70, 110):\n",
    "    print(konversi_ke_indeks(score))"
   ]
  },
  {
   "cell_type": "code",
   "execution_count": 58,
   "id": "c872e1d6",
   "metadata": {},
   "outputs": [
    {
     "name": "stdout",
     "output_type": "stream",
     "text": [
      "1\n",
      "4\n",
      "9\n",
      "16\n",
      "25\n",
      "36\n"
     ]
    }
   ],
   "source": [
    "for number in numbers:\n",
    "    print(number**2)"
   ]
  },
  {
   "cell_type": "code",
   "execution_count": 59,
   "id": "9300863a",
   "metadata": {},
   "outputs": [],
   "source": [
    "animals = ['Cat', 'Dog', 'Fish', 'Bird', 'Elephant']"
   ]
  },
  {
   "cell_type": "code",
   "execution_count": 60,
   "id": "19ce2d73",
   "metadata": {},
   "outputs": [
    {
     "name": "stdout",
     "output_type": "stream",
     "text": [
      "Cat\n",
      "Dog\n",
      "Fish\n",
      "Bird\n",
      "Elephant\n"
     ]
    }
   ],
   "source": [
    "for animal in animals:\n",
    "    print(animal)"
   ]
  },
  {
   "cell_type": "code",
   "execution_count": 61,
   "id": "8f7543ef",
   "metadata": {},
   "outputs": [
    {
     "name": "stdout",
     "output_type": "stream",
     "text": [
      "CAT\n",
      "DOG\n",
      "FISH\n",
      "BIRD\n",
      "ELEPHANT\n"
     ]
    }
   ],
   "source": [
    "for animal in animals:\n",
    "    print(animal.upper())"
   ]
  },
  {
   "cell_type": "code",
   "execution_count": 62,
   "id": "1470729a",
   "metadata": {},
   "outputs": [
    {
     "name": "stdout",
     "output_type": "stream",
     "text": [
      "cat\n",
      "dog\n",
      "fish\n",
      "bird\n",
      "elephant\n"
     ]
    }
   ],
   "source": [
    "for animal in animals:\n",
    "    print(animal.lower())"
   ]
  },
  {
   "cell_type": "code",
   "execution_count": 63,
   "id": "4aaf55a2",
   "metadata": {},
   "outputs": [
    {
     "name": "stdout",
     "output_type": "stream",
     "text": [
      "0\n",
      "1\n",
      "2\n",
      "3\n",
      "4\n"
     ]
    }
   ],
   "source": [
    "for i in range(5):\n",
    "    print(i)"
   ]
  },
  {
   "cell_type": "code",
   "execution_count": 64,
   "id": "f927a244",
   "metadata": {},
   "outputs": [
    {
     "name": "stdout",
     "output_type": "stream",
     "text": [
      "2\n",
      "4\n"
     ]
    }
   ],
   "source": [
    "for i in range(2, 5, 2):\n",
    "    print(i)"
   ]
  },
  {
   "cell_type": "code",
   "execution_count": 65,
   "id": "2acb7a40",
   "metadata": {
    "scrolled": true
   },
   "outputs": [
    {
     "name": "stdout",
     "output_type": "stream",
     "text": [
      "0\n",
      "1\n",
      "2\n",
      "3\n",
      "4\n",
      "5\n",
      "6\n",
      "7\n",
      "8\n",
      "9\n",
      "10\n",
      "11\n",
      "12\n",
      "13\n",
      "14\n",
      "15\n",
      "16\n",
      "17\n",
      "18\n",
      "19\n",
      "20\n",
      "21\n",
      "22\n",
      "23\n",
      "24\n",
      "25\n",
      "26\n",
      "27\n",
      "28\n",
      "29\n",
      "30\n",
      "31\n",
      "32\n",
      "33\n",
      "34\n",
      "35\n",
      "36\n",
      "37\n",
      "38\n",
      "39\n",
      "40\n",
      "41\n",
      "42\n",
      "43\n",
      "44\n",
      "45\n",
      "46\n",
      "47\n",
      "48\n",
      "49\n",
      "50\n",
      "51\n",
      "52\n",
      "53\n",
      "54\n",
      "55\n",
      "56\n",
      "57\n",
      "58\n",
      "59\n",
      "60\n",
      "61\n",
      "62\n",
      "63\n",
      "64\n",
      "65\n",
      "66\n",
      "67\n",
      "68\n",
      "69\n",
      "70\n",
      "71\n",
      "72\n",
      "73\n",
      "74\n",
      "75\n",
      "76\n",
      "77\n",
      "78\n",
      "79\n",
      "80\n",
      "81\n",
      "82\n",
      "83\n",
      "84\n",
      "85\n",
      "86\n",
      "87\n",
      "88\n",
      "89\n",
      "90\n",
      "91\n",
      "92\n",
      "93\n",
      "94\n",
      "95\n",
      "96\n",
      "97\n",
      "98\n",
      "99\n"
     ]
    }
   ],
   "source": [
    "for i in range(100):\n",
    "    print(i)"
   ]
  },
  {
   "cell_type": "code",
   "execution_count": 66,
   "id": "c8e6c857",
   "metadata": {},
   "outputs": [
    {
     "data": {
      "text/plain": [
       "{'cat': 'kucing',\n",
       " 'dog': 'anjing',\n",
       " 'fish': 'ikan',\n",
       " 'bird': 'burung',\n",
       " 'elephant': 'gajah'}"
      ]
     },
     "execution_count": 66,
     "metadata": {},
     "output_type": "execute_result"
    }
   ],
   "source": [
    "a"
   ]
  },
  {
   "cell_type": "code",
   "execution_count": 67,
   "id": "eda32fb8",
   "metadata": {},
   "outputs": [
    {
     "data": {
      "text/plain": [
       "dict_keys(['cat', 'dog', 'fish', 'bird', 'elephant'])"
      ]
     },
     "execution_count": 67,
     "metadata": {},
     "output_type": "execute_result"
    }
   ],
   "source": [
    "a.keys()"
   ]
  },
  {
   "cell_type": "code",
   "execution_count": 68,
   "id": "3bff36fc",
   "metadata": {},
   "outputs": [
    {
     "name": "stdout",
     "output_type": "stream",
     "text": [
      "Bahasa indonesia dari cat adalah kucing\n",
      "Bahasa indonesia dari dog adalah anjing\n",
      "Bahasa indonesia dari fish adalah ikan\n",
      "Bahasa indonesia dari bird adalah burung\n",
      "Bahasa indonesia dari elephant adalah gajah\n"
     ]
    }
   ],
   "source": [
    "for key in a.keys():\n",
    "    print(\"Bahasa indonesia dari\", key, \"adalah\", a[key])"
   ]
  },
  {
   "cell_type": "code",
   "execution_count": 69,
   "id": "9e995c34",
   "metadata": {},
   "outputs": [
    {
     "name": "stdout",
     "output_type": "stream",
     "text": [
      "Bahasa indonesia dari cat adalah kucing\n",
      "Bahasa indonesia dari dog adalah anjing\n",
      "Bahasa indonesia dari fish adalah ikan\n",
      "Bahasa indonesia dari bird adalah burung\n",
      "Bahasa indonesia dari elephant adalah gajah\n"
     ]
    }
   ],
   "source": [
    "for key in a.keys():\n",
    "    print(f\"Bahasa indonesia dari {key} adalah {a[key]}\") # formating"
   ]
  },
  {
   "cell_type": "code",
   "execution_count": 70,
   "id": "e412ecdd",
   "metadata": {},
   "outputs": [],
   "source": [
    "a = []\n",
    "for i in range(5):\n",
    "    a.append(i**2)"
   ]
  },
  {
   "cell_type": "code",
   "execution_count": 71,
   "id": "b0404a38",
   "metadata": {},
   "outputs": [
    {
     "data": {
      "text/plain": [
       "[0, 1, 4, 9, 16]"
      ]
     },
     "execution_count": 71,
     "metadata": {},
     "output_type": "execute_result"
    }
   ],
   "source": [
    "a"
   ]
  },
  {
   "cell_type": "markdown",
   "id": "cf0e1e24",
   "metadata": {},
   "source": [
    "# 1.4 Python Comprehension"
   ]
  },
  {
   "cell_type": "code",
   "execution_count": 72,
   "id": "c0f9f3e3",
   "metadata": {},
   "outputs": [],
   "source": [
    "a = [i**2 for i in range(5)]"
   ]
  },
  {
   "cell_type": "code",
   "execution_count": 73,
   "id": "9b5a02d8",
   "metadata": {},
   "outputs": [
    {
     "data": {
      "text/plain": [
       "[0, 1, 4, 9, 16]"
      ]
     },
     "execution_count": 73,
     "metadata": {},
     "output_type": "execute_result"
    }
   ],
   "source": [
    "a"
   ]
  },
  {
   "cell_type": "code",
   "execution_count": 74,
   "id": "0b0a90d0",
   "metadata": {},
   "outputs": [],
   "source": [
    "a = {i: i**2 for i in range(5)} "
   ]
  },
  {
   "cell_type": "code",
   "execution_count": 75,
   "id": "9e7cb125",
   "metadata": {},
   "outputs": [
    {
     "data": {
      "text/plain": [
       "{0: 0, 1: 1, 2: 4, 3: 9, 4: 16}"
      ]
     },
     "execution_count": 75,
     "metadata": {},
     "output_type": "execute_result"
    }
   ],
   "source": [
    "a"
   ]
  },
  {
   "cell_type": "code",
   "execution_count": 76,
   "id": "2af3a33c",
   "metadata": {},
   "outputs": [],
   "source": [
    "nilai = [konversi_ke_indeks(score) for score in(20, 40, 50, 30, 70, 80, -5, 110)]"
   ]
  },
  {
   "cell_type": "code",
   "execution_count": 77,
   "id": "ecdd22fa",
   "metadata": {},
   "outputs": [
    {
     "data": {
      "text/plain": [
       "['indeks: C',\n",
       " 'indeks: C',\n",
       " 'indeks: C',\n",
       " 'indeks: C',\n",
       " 'indeks: B',\n",
       " 'indeks: A',\n",
       " 'Nilai tidak ada',\n",
       " 'Nilai tidak ada']"
      ]
     },
     "execution_count": 77,
     "metadata": {},
     "output_type": "execute_result"
    }
   ],
   "source": [
    "nilai"
   ]
  },
  {
   "cell_type": "markdown",
   "id": "4a9aeff6",
   "metadata": {},
   "source": [
    "## Exercise:\n",
    "##### 1. Buatlah fungsi untuk kasus berikut:\n",
    "\n",
    "- Seseorang karyawan akan mendapatkan gaji lembur berdasarkan jumlah lembur perminggu dengan ketentuan:\n",
    "\n",
    "| No  |  Jumlah jam kerja    | Gaji lembur/jam |\n",
    "|---- |  ------------------- | --------------  |\n",
    "| 1   |  Jumlah jam > 10     |  Rp. 30.000     |\n",
    "| 2   |  5 < Jumlah jam < 10 |  Rp. 20.000     |\n",
    "| 3   |  Jumlah jam < 5      |  Rp. 10.000     |\n",
    "\n",
    "- Buatlah fungsi untuk menentukan jumlah gaji lembur karyawan berdasarkan ketentuan diatas:\n",
    "\n",
    "##### 2. Buatlah fungsi uji hipotesis dengan daerah kritis berikut\n",
    "    - jika P-value < 𝛼 = 0.05 , tolak H0 \n",
    "    - Jika p-value > 𝛼 = 0.05 , tidak tolak H0"
   ]
  }
 ],
 "metadata": {
  "kernelspec": {
   "display_name": "Python 3 (ipykernel)",
   "language": "python",
   "name": "python3"
  },
  "language_info": {
   "codemirror_mode": {
    "name": "ipython",
    "version": 3
   },
   "file_extension": ".py",
   "mimetype": "text/x-python",
   "name": "python",
   "nbconvert_exporter": "python",
   "pygments_lexer": "ipython3",
   "version": "3.9.16"
  },
  "nbTranslate": {
   "displayLangs": [
    "*"
   ],
   "hotkey": "alt-t",
   "langInMainMenu": true,
   "sourceLang": "en",
   "targetLang": "fr",
   "useGoogleTranslate": true
  }
 },
 "nbformat": 4,
 "nbformat_minor": 5
}
